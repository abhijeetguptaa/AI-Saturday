{
 "cells": [
  {
   "cell_type": "markdown",
   "metadata": {},
   "source": [
    "# Utilities to prepare the data"
   ]
  },
  {
   "cell_type": "code",
   "execution_count": null,
   "metadata": {
    "collapsed": true
   },
   "outputs": [],
   "source": [
    "import os\n",
    "\n",
    "#CLI commands to install google images download\n",
    "#git clone https://github.com/hardikvasa/google-images-download.git\n",
    "#cd google-images-download && sudo python setup.py install\n",
    "\n",
    "from google_images_download import google_images_download\n"
   ]
  },
  {
   "cell_type": "code",
   "execution_count": null,
   "metadata": {
    "collapsed": true
   },
   "outputs": [],
   "source": [
    "#Folder location where you downloaded your data. you can get the full path by typing pwd on the unix prompt\n",
    "DOWNLOAD_LOCATION = \"REPLACE THE GOOGLE DOWNLOAD LOCATION PATH\"\n",
    "\n",
    "#For each class you need to change the folder name.\n",
    "DATA_FOLDER = \"REPLACE THE CLASS FOLDER PATH\"\n",
    "\n",
    "CLASSNAME = \"PUT THE CLASSNAME\""
   ]
  },
  {
   "cell_type": "markdown",
   "metadata": {},
   "source": [
    "## Following snippet is for downloading the data.\n",
    "1. Keywords are comma separated value. Each keyword becomes a folder\n",
    "2. \"format\" specifies the file type. jpg should be used\n",
    "3. \"limit\" specifies the number of images per keyword/or class\n",
    "4. \"CD\" is the download location\n"
   ]
  },
  {
   "cell_type": "code",
   "execution_count": null,
   "metadata": {},
   "outputs": [],
   "source": [
    "response = google_images_download.googleimagesdownload()\n",
    "\n",
    "arguments = {\"keywords\":\"healthy leaves, infected leaves\",\"format\":\"jpg\",\"limit\":100,\"cd\":DOWNLOAD_LOCATION}\n",
    "paths = response.download(arguments)"
   ]
  },
  {
   "cell_type": "markdown",
   "metadata": {
    "collapsed": true
   },
   "source": [
    "## Following snippet should be used to rename the \"train\" and \"validation\" folder files.\n",
    "Training and Validation folder files need to follow the convention of <classname>.<some number>.jpg"
   ]
  },
  {
   "cell_type": "code",
   "execution_count": null,
   "metadata": {
    "collapsed": true
   },
   "outputs": [],
   "source": [
    "files = os.listdir(DATA_FOLDER)\n",
    "\n",
    "for index, file in enumerate(files):   \n",
    "\n",
    "    extension = os.path.splitext(file)[1] #0th index returns the filename  \n",
    "    if extension == \".jpg\":\n",
    "        \n",
    "        newName = \"{}.{}.jpg\".format(CLASSNAME,index)\n",
    "        #print(\"old name = {}, new name = {}\".format(os.path.join(DATA_FOLDER, file),os.path.join(DATA_FOLDER, newName)))\n",
    "        os.rename(os.path.join(DATA_FOLDER, file), os.path.join(DATA_FOLDER, newName))\n"
   ]
  },
  {
   "cell_type": "markdown",
   "metadata": {
    "collapsed": true
   },
   "source": [
    "## Following snippet should be used to rename the \"test\" folder files.\n",
    "Test folder files need to follow the convention of <some number>.jpg"
   ]
  },
  {
   "cell_type": "code",
   "execution_count": null,
   "metadata": {},
   "outputs": [],
   "source": [
    "files = os.listdir(DATA_FOLDER)\n",
    "\n",
    "for index, file in enumerate(files):   \n",
    "\n",
    "    extension = os.path.splitext(file)[1] #0th index returns the filename  \n",
    "    if extension == \".jpg\":\n",
    "        \n",
    "        newName = \"{}.jpg\".format(index)\n",
    "        #print(\"old name = {}, new name = {}\".format(os.path.join(DATA_FOLDER, file),os.path.join(DATA_FOLDER, newName)))\n",
    "        os.rename(os.path.join(DATA_FOLDER, file), os.path.join(DATA_FOLDER, newName))\n"
   ]
  },
  {
   "cell_type": "code",
   "execution_count": null,
   "metadata": {
    "collapsed": true
   },
   "outputs": [],
   "source": []
  }
 ],
 "metadata": {
  "kernelspec": {
   "display_name": "Python 3",
   "language": "python",
   "name": "python3"
  },
  "language_info": {
   "codemirror_mode": {
    "name": "ipython",
    "version": 3
   },
   "file_extension": ".py",
   "mimetype": "text/x-python",
   "name": "python",
   "nbconvert_exporter": "python",
   "pygments_lexer": "ipython3",
   "version": "3.6.3"
  }
 },
 "nbformat": 4,
 "nbformat_minor": 2
}
