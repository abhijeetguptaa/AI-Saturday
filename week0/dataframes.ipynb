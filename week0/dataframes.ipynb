{
 "cells": [
  {
   "cell_type": "markdown",
   "metadata": {},
   "source": [
    "# Dataframes Kung-fu with Pandas\n",
    "\n",
    "<img style=\"float: right;\" src=\"data/po.png\" width=256>\n",
    "**TL;DR**\n",
    "- Read CSVs into dataframes\n",
    "- Explore dataframe and show statistics\n",
    "- Create a dataframe and append to an existing one\n",
    "- Indexing and slicing\n",
    "- Find and replace\n",
    "- Deletion"
   ]
  },
  {
   "cell_type": "code",
   "execution_count": null,
   "metadata": {
    "collapsed": true
   },
   "outputs": [],
   "source": [
    "import pandas as pd\n",
    "import numpy as np\n",
    "import matplotlib.pyplot as plt"
   ]
  },
  {
   "cell_type": "code",
   "execution_count": null,
   "metadata": {},
   "outputs": [],
   "source": [
    "# Reading a CSV into dataframe\n",
    "df = pd.read_csv('data/Major-AI-projects.csv')\n",
    "\n",
    "# Show column names and number of rows\n",
    "cols = df.columns.values.tolist()\n",
    "rows = df.index\n",
    "print('cols:\\n{}\\n'.format(', '.join(cols)))\n",
    "print('num_rows:\\n{}\\n'.format(len(rows)))"
   ]
  },
  {
   "cell_type": "code",
   "execution_count": null,
   "metadata": {},
   "outputs": [],
   "source": [
    "# First five items of the dataframe.\n",
    "df.head()"
   ]
  },
  {
   "cell_type": "code",
   "execution_count": null,
   "metadata": {},
   "outputs": [],
   "source": [
    "# Use pandas.DataFrames.describe() to generate a descriptive statistics.\n",
    "df.describe()"
   ]
  },
  {
   "cell_type": "code",
   "execution_count": null,
   "metadata": {},
   "outputs": [],
   "source": [
    "# Data shows the major AI projects done by different organizations.\n",
    "# Let's find out the frequency of projects done for each category.\n",
    "plt.figure(figsize=(20, 5))\n",
    "plt.xticks(rotation=45)\n",
    "df.Category.hist()\n",
    "plt.title('Frequency of projects per category')\n",
    "plt.show()"
   ]
  },
  {
   "cell_type": "code",
   "execution_count": null,
   "metadata": {},
   "outputs": [],
   "source": [
    "# Now, we want to add a row to our dataframe.\n",
    "# This involves creating a new dataframe and appending it to an existing one.\n",
    "d = {'Category': 'Generative Adversarial Nets', 'Project': ['DCGANs'], 'Year': ['2015']}\n",
    "df_new = pd.DataFrame(data=d)\n",
    "\n",
    "df.append(df_new)"
   ]
  },
  {
   "cell_type": "markdown",
   "metadata": {},
   "source": [
    "## Indexing like a Ninja\n",
    "\n",
    "Guidelines:\n",
    "- use `.loc` for labels\n",
    "- use `.iloc` for positions\n",
    "- explicitly designate both rows and columns"
   ]
  },
  {
   "cell_type": "code",
   "execution_count": null,
   "metadata": {},
   "outputs": [],
   "source": [
    "\"\"\" Select a column by name \"\"\"\n",
    "# We add `:` to say that we are interested in all the rows.\n",
    "# We add the column name to indicate the column we are interested in.\n",
    "df.loc[:, 'Project'].head(10)"
   ]
  },
  {
   "cell_type": "code",
   "execution_count": null,
   "metadata": {},
   "outputs": [],
   "source": [
    "# Note that the previous method returns the row as a Series.\n",
    "# If we are only interested in the values we can do the following which will return a numpy array.\n",
    "df.loc[:, 'Project'].values"
   ]
  },
  {
   "cell_type": "code",
   "execution_count": null,
   "metadata": {
    "collapsed": true
   },
   "outputs": [],
   "source": [
    "# Till now we were using row numbers as index.\n",
    "# We can specify a column to serve as index for our dataframe.\n",
    "df.set_index('Project', inplace=True)"
   ]
  },
  {
   "cell_type": "code",
   "execution_count": null,
   "metadata": {},
   "outputs": [],
   "source": [
    "# Now if we want to select a particular value from the dataframe, say, which year the `Google Now` project was taken.\n",
    "# We can do that easily.\n",
    "df.loc['Google Now', 'Year']"
   ]
  },
  {
   "cell_type": "code",
   "execution_count": null,
   "metadata": {},
   "outputs": [],
   "source": [
    "# Select several rows by labels - pass a list of labels in the row position.\n",
    "df.loc[['Google Now', 'Deep Blue', 'Stockfish AI'], 'Year']"
   ]
  },
  {
   "cell_type": "code",
   "execution_count": null,
   "metadata": {},
   "outputs": [],
   "source": [
    "# We can also do the same for columns.\n",
    "df.loc[['Google Now', 'Deep Blue', 'Stockfish AI'], ['Year', 'Written in']]"
   ]
  },
  {
   "cell_type": "code",
   "execution_count": null,
   "metadata": {},
   "outputs": [],
   "source": [
    "# Select several consecutive columns by label.\n",
    "df.loc[:, 'Category': 'Written in'].head()"
   ]
  },
  {
   "cell_type": "code",
   "execution_count": null,
   "metadata": {},
   "outputs": [],
   "source": [
    "# Select rows based on column value.\n",
    "# Select all the projects that were taken in the year 2004.\n",
    "df.loc[df.loc[:, 'Year'] == '2004', :]"
   ]
  },
  {
   "cell_type": "code",
   "execution_count": null,
   "metadata": {},
   "outputs": [],
   "source": [
    "# Select a row by position.\n",
    "df.iloc[0, :]"
   ]
  },
  {
   "cell_type": "code",
   "execution_count": null,
   "metadata": {},
   "outputs": [],
   "source": [
    "# Select a column by position\n",
    "# Note that we are using the 'Project' column as index. So, column `Type' becomes the 0th column.\n",
    "df.iloc[:, 0]"
   ]
  },
  {
   "cell_type": "code",
   "execution_count": null,
   "metadata": {},
   "outputs": [],
   "source": [
    "# Pick up a single value\n",
    "df.iloc[0, 2]"
   ]
  },
  {
   "cell_type": "code",
   "execution_count": null,
   "metadata": {},
   "outputs": [],
   "source": [
    "# Select several rows by position\n",
    "df.iloc[[0, 1], :]"
   ]
  },
  {
   "cell_type": "code",
   "execution_count": null,
   "metadata": {},
   "outputs": [],
   "source": [
    "# Select several adjacent columns by position\n",
    "df.iloc[:, 0:3].head()"
   ]
  },
  {
   "cell_type": "code",
   "execution_count": null,
   "metadata": {},
   "outputs": [],
   "source": [
    "# Search and replace a value.\n",
    "# Replace all the NaNs in `Written in` column with `Unknown`.\n",
    "df.loc[:, 'Written in'].replace(np.nan, 'Unknown')"
   ]
  },
  {
   "cell_type": "code",
   "execution_count": null,
   "metadata": {},
   "outputs": [],
   "source": [
    "# Delete a column from the dataframe.\n",
    "df.drop('Image', axis=1) # Alternative: df.drop(columns='Image')"
   ]
  },
  {
   "cell_type": "code",
   "execution_count": null,
   "metadata": {},
   "outputs": [],
   "source": [
    "# Delete a row.\n",
    "df.drop('Apache Mahout', axis=0)"
   ]
  },
  {
   "cell_type": "code",
   "execution_count": null,
   "metadata": {},
   "outputs": [],
   "source": [
    "# Delete all rows that contain the value 'LISP' in column 'Written in'.\n",
    "df.drop(df.loc[df.loc[:, \"Written in\"]==\"LISP\"].index.tolist(), axis=0)"
   ]
  },
  {
   "cell_type": "code",
   "execution_count": null,
   "metadata": {
    "collapsed": true
   },
   "outputs": [],
   "source": []
  }
 ],
 "metadata": {
  "kernelspec": {
   "display_name": "Python 3",
   "language": "python",
   "name": "python3"
  },
  "language_info": {
   "codemirror_mode": {
    "name": "ipython",
    "version": 3
   },
   "file_extension": ".py",
   "mimetype": "text/x-python",
   "name": "python",
   "nbconvert_exporter": "python",
   "pygments_lexer": "ipython3",
   "version": "3.6.3"
  }
 },
 "nbformat": 4,
 "nbformat_minor": 2
}
